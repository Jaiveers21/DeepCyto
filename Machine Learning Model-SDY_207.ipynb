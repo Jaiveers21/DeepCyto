{
 "cells": [
  {
   "cell_type": "code",
   "execution_count": 2,
   "metadata": {},
   "outputs": [],
   "source": [
    "import FlowCytometryTools\n",
    "from FlowCytometryTools import test_data_dir, test_data_file\n",
    "from FlowCytometryTools import FCMeasurement\n",
    "import numpy as np\n",
    "import pandas as pd"
   ]
  },
  {
   "cell_type": "code",
   "execution_count": 3,
   "metadata": {},
   "outputs": [
    {
     "name": "stdout",
     "output_type": "stream",
     "text": [
      "[0 0 0 0 0 0 0 0 0 0 0 0 0 0 1 1 1 1 1 1 1 1 1 1 1 1 1 1 1 1 1 1]\n"
     ]
    }
   ],
   "source": [
    "dataf = pd.read_csv(filepath_or_buffer='/Users/jaiveersingh/Desktop/final3.csv')\n",
    "dataf=dataf[dataf['STUDY_ACCESSION'] == 'SDY207']\n",
    "#print(dataf.head())\n",
    "dataf = dataf[['NAME_x','AVERAGE_AGE']]\n",
    "dataf = dataf[dataf.NAME_x != 'E2D6Flu.388631.fcs']\n",
    "dataf = dataf[dataf.NAME_x != 'E1D3PI.388593.fcs']\n",
    "c = (dataf['AVERAGE_AGE'] > 60).astype(int)\n",
    "c=c.values\n",
    "print(c)"
   ]
  },
  {
   "cell_type": "code",
   "execution_count": 282,
   "metadata": {},
   "outputs": [
    {
     "name": "stdout",
     "output_type": "stream",
     "text": [
      "[26, 9, 23, 6, 15, 16, 11, 21, 19, 2]\n",
      "(10, 1)\n",
      "[[0]\n",
      " [0]\n",
      " [0]\n",
      " [0]\n",
      " [0]\n",
      " [0]\n",
      " [0]\n",
      " [0]\n",
      " [0]\n",
      " [0]\n",
      " [1]\n",
      " [1]\n",
      " [1]\n",
      " [1]\n",
      " [1]\n",
      " [1]\n",
      " [1]\n",
      " [1]\n",
      " [1]\n",
      " [1]\n",
      " [1]\n",
      " [1]]\n"
     ]
    }
   ],
   "source": [
    "import random\n",
    "rand=random.sample(range(0,32), 10)\n",
    "print(rand)\n",
    "#[27, 0, 14, 24, 31, 9, 7, 26, 11, 3]\n",
    "y_tes = []\n",
    "for i in range(len(rand)):\n",
    "    y_tes.append(c[rand[i]])\n",
    "y_test = np.asarray(y_tes)\n",
    "y_test = y_test.reshape(10,1)\n",
    "print(y_test.shape)\n",
    "y_train = np.asarray([i for j, i in enumerate(c) if j not in rand])\n",
    "y_train = y_train.reshape(22,1)\n",
    "print(y_train)"
   ]
  },
  {
   "cell_type": "code",
   "execution_count": 217,
   "metadata": {},
   "outputs": [
    {
     "name": "stdout",
     "output_type": "stream",
     "text": [
      "(10, 32, 1)\n"
     ]
    }
   ],
   "source": [
    "datadir = test_data_dir\n",
    "datafile = test_data_file\n",
    "datafile=\"/Users/jaiveersingh/Desktop/research/Deep_Learning_Project/Research/FCS/SDY_207/E2D6CMVApp65.388594.fcs\"\n",
    "sample = FCMeasurement(ID='Test Sample', datafile=datafile)\n",
    "sample.data = sample.data.drop('Time',axis=1)\n",
    "ss = sample.data[['Cell_length', 'CD3(Cd108)Dd',\n",
    "       'LiveDead(In115)Dd', 'MuCD45(La139)Dd', 'IL2(Pr141)Dd', 'CCR7(Nd142)Dd',\n",
    "       'CD7(Nd143)Dd', 'CD45RO(Nd144)Dd', 'CD57(Nd145)Dd', 'CD8(Nd146)Dd',\n",
    "       'CD11a(Nd148)Dd', 'MIP1b(Nd150)Dd', 'CD69(Sm149)Dd', 'TNFa(Sm152)Dd',\n",
    "       'CD27(Sm154)Dd', 'GzmB(Eu151)Dd', 'Tet156(Gd156)Dd', 'Tet158(Gd158)Dd',\n",
    "       'CD28(Gd160)Dd', 'Tet159(Tb159)Dd', 'Tet165(Ho165)Dd',\n",
    "       'CD45RA(Er166)Dd', 'CD43(Er167)Dd', 'Tet168(Er168)Dd', 'CD62L(Tm169)Dd',\n",
    "       'CD49d(Yb172)Dd', 'KLRG1(Yb174)Dd', 'MIP1a(Yb176)Dd',\n",
    "       'Perforin(Lu175)Dd', 'GMCSF(Pm147)Dd', 'CD29(Dy162)Dd',\n",
    "       'Tet164(Dy164)Dd']]\n",
    "ss.columns=intcol\n",
    "file = ss.sample(10)\n",
    "#print(file1)\n",
    "file=file.values\n",
    "file = file.reshape(file.shape[0],file.shape[1],1)\n",
    "print(file.shape)"
   ]
  },
  {
   "cell_type": "code",
   "execution_count": 218,
   "metadata": {},
   "outputs": [
    {
     "data": {
      "text/plain": [
       "(10, 32, 1)"
      ]
     },
     "execution_count": 218,
     "metadata": {},
     "output_type": "execute_result"
    }
   ],
   "source": [
    "datadir = test_data_dir\n",
    "datafile1 = test_data_file\n",
    "datafile1=\"/Users/jaiveersingh/Desktop/research/Deep_Learning_Project/Research/FCS/SDY_207/E2D6NS.388595.fcs\"\n",
    "sample1 = FCMeasurement(ID='Test Sample', datafile=datafile1)\n",
    "sample1.data = sample1.data.drop('Time',axis=1)\n",
    "ss1 = sample1.data[['Cell_length', 'CD3(Cd108)Dd',\n",
    "       'LiveDead(In115)Dd', 'MuCD45(La139)Dd', 'IL2(Pr141)Dd', 'CCR7(Nd142)Dd',\n",
    "       'CD7(Nd143)Dd', 'CD45RO(Nd144)Dd', 'CD57(Nd145)Dd', 'CD8(Nd146)Dd',\n",
    "       'CD11a(Nd148)Dd', 'MIP1b(Nd150)Dd', 'CD69(Sm149)Dd', 'TNFa(Sm152)Dd',\n",
    "       'CD27(Sm154)Dd', 'GzmB(Eu151)Dd', 'Tet156(Gd156)Dd', 'Tet158(Gd158)Dd',\n",
    "       'CD28(Gd160)Dd', 'Tet159(Tb159)Dd', 'Tet165(Ho165)Dd',\n",
    "       'CD45RA(Er166)Dd', 'CD43(Er167)Dd', 'Tet168(Er168)Dd', 'CD62L(Tm169)Dd',\n",
    "       'CD49d(Yb172)Dd', 'KLRG1(Yb174)Dd', 'MIP1a(Yb176)Dd',\n",
    "       'Perforin(Lu175)Dd', 'GMCSF(Pm147)Dd', 'CD29(Dy162)Dd',\n",
    "       'Tet164(Dy164)Dd']]\n",
    "ss1.columns=intcol\n",
    "file1 = ss1.sample(10)\n",
    "#print(file1)\n",
    "file1=file1.values\n",
    "file1 = file1.reshape(file1.shape[0],file1.shape[1],1)\n",
    "file1.shape"
   ]
  },
  {
   "cell_type": "code",
   "execution_count": 219,
   "metadata": {},
   "outputs": [
    {
     "data": {
      "text/plain": [
       "(10, 32, 1)"
      ]
     },
     "execution_count": 219,
     "metadata": {},
     "output_type": "execute_result"
    }
   ],
   "source": [
    "datadir = test_data_dir\n",
    "datafile2 = test_data_file\n",
    "datafile2=\"/Users/jaiveersingh/Desktop/research/Deep_Learning_Project/Research/FCS/SDY_207/E2D6CD328.388596.fcs\"\n",
    "sample2 = FCMeasurement(ID='Test Sample', datafile=datafile2)\n",
    "sample2.data = sample2.data.drop('Time',axis=1)\n",
    "ss2 = sample2.data[['Cell_length', 'CD3(Cd108)Dd',\n",
    "       'LiveDead(In115)Dd', 'MuCD45(La139)Dd', 'IL2(Pr141)Dd', 'CCR7(Nd142)Dd',\n",
    "       'CD7(Nd143)Dd', 'CD45RO(Nd144)Dd', 'CD57(Nd145)Dd', 'CD8(Nd146)Dd',\n",
    "       'CD11a(Nd148)Dd', 'MIP1b(Nd150)Dd', 'CD69(Sm149)Dd', 'TNFa(Sm152)Dd',\n",
    "       'CD27(Sm154)Dd', 'GzmB(Eu151)Dd', 'Tet156(Gd156)Dd', 'Tet158(Gd158)Dd',\n",
    "       'CD28(Gd160)Dd', 'Tet159(Tb159)Dd', 'Tet165(Ho165)Dd',\n",
    "       'CD45RA(Er166)Dd', 'CD43(Er167)Dd', 'Tet168(Er168)Dd', 'CD62L(Tm169)Dd',\n",
    "       'CD49d(Yb172)Dd', 'KLRG1(Yb174)Dd', 'MIP1a(Yb176)Dd',\n",
    "       'Perforin(Lu175)Dd', 'GMCSF(Pm147)Dd', 'CD29(Dy162)Dd',\n",
    "       'Tet164(Dy164)Dd']]\n",
    "ss2.columns=intcol\n",
    "#print(sample.data)\n",
    "file2 = ss2.sample(10)\n",
    "#print(file2)\n",
    "file2=file2.values\n",
    "file2 = file2.reshape(file2.shape[0],file2.shape[1],1)\n",
    "file2.shape"
   ]
  },
  {
   "cell_type": "code",
   "execution_count": 220,
   "metadata": {},
   "outputs": [
    {
     "data": {
      "text/plain": [
       "(10, 32, 1)"
      ]
     },
     "execution_count": 220,
     "metadata": {},
     "output_type": "execute_result"
    }
   ],
   "source": [
    "datadir = test_data_dir\n",
    "datafile3 = test_data_file\n",
    "datafile3=\"/Users/jaiveersingh/Desktop/research/Deep_Learning_Project/Research/FCS/SDY_207/E2D5Flu.388600.fcs\"\n",
    "sample3 = FCMeasurement(ID='Test Sample', datafile=datafile3)\n",
    "sample3.data = sample3.data.drop('Time',axis=1)\n",
    "ss3 = sample3.data[['Cell_length', 'CD3(Cd108)Dd',\n",
    "       'LiveDead(In115)Dd', 'MuCD45(La139)Dd', 'IL2(Pr141)Dd', 'CCR7(Nd142)Dd',\n",
    "       'CD7(Nd143)Dd', 'CD45RO(Nd144)Dd', 'CD57(Nd145)Dd', 'CD8(Nd146)Dd',\n",
    "       'CD11a(Nd148)Dd', 'MIP1b(Nd150)Dd', 'CD69(Sm149)Dd', 'TNFa(Sm152)Dd',\n",
    "       'CD27(Sm154)Dd', 'GzmB(Eu151)Dd', 'Tet156(Gd156)Dd', 'Tet158(Gd158)Dd',\n",
    "       'CD28(Gd160)Dd', 'Tet159(Tb159)Dd', 'Tet165(Ho165)Dd',\n",
    "       'CD45RA(Er166)Dd', 'CD43(Er167)Dd', 'Tet168(Er168)Dd', 'CD62L(Tm169)Dd',\n",
    "       'CD49d(Yb172)Dd', 'KLRG1(Yb174)Dd', 'MIP1a(Yb176)Dd',\n",
    "       'Perforin(Lu175)Dd', 'GMCSF(Pm147)Dd', 'CD29(Dy162)Dd',\n",
    "       'Tet164(Dy164)Dd']]\n",
    "ss3.columns=intcol\n",
    "#print(sample.data)\n",
    "file3 = ss3.sample(10)\n",
    "#print(file2)\n",
    "file3=file3.values\n",
    "file3 = file3.reshape(file3.shape[0],file3.shape[1],1)\n",
    "file3.shape"
   ]
  },
  {
   "cell_type": "code",
   "execution_count": 221,
   "metadata": {},
   "outputs": [
    {
     "data": {
      "text/plain": [
       "(10, 32, 1)"
      ]
     },
     "execution_count": 221,
     "metadata": {},
     "output_type": "execute_result"
    }
   ],
   "source": [
    "datadir = test_data_dir\n",
    "datafile4 = test_data_file\n",
    "datafile4=\"/Users/jaiveersingh/Desktop/research/Deep_Learning_Project/Research/FCS/SDY_207/E2D5CD328.388601.fcs\"\n",
    "sample4 = FCMeasurement(ID='Test Sample', datafile=datafile4)\n",
    "sample4.data = sample4.data.drop('Time',axis=1)\n",
    "ss4 = sample4.data[['Cell_length', 'CD3(Cd108)Dd',\n",
    "       'LiveDead(In115)Dd', 'MuCD45(La139)Dd', 'IL2(Pr141)Dd', 'CCR7(Nd142)Dd',\n",
    "       'CD7(Nd143)Dd', 'CD45RO(Nd144)Dd', 'CD57(Nd145)Dd', 'CD8(Nd146)Dd',\n",
    "       'CD11a(Nd148)Dd', 'MIP1b(Nd150)Dd', 'CD69(Sm149)Dd', 'TNFa(Sm152)Dd',\n",
    "       'CD27(Sm154)Dd', 'GzmB(Eu151)Dd', 'Tet156(Gd156)Dd', 'Tet158(Gd158)Dd',\n",
    "       'CD28(Gd160)Dd', 'Tet159(Tb159)Dd', 'Tet165(Ho165)Dd',\n",
    "       'CD45RA(Er166)Dd', 'CD43(Er167)Dd', 'Tet168(Er168)Dd', 'CD62L(Tm169)Dd',\n",
    "       'CD49d(Yb172)Dd', 'KLRG1(Yb174)Dd', 'MIP1a(Yb176)Dd',\n",
    "       'Perforin(Lu175)Dd', 'GMCSF(Pm147)Dd', 'CD29(Dy162)Dd',\n",
    "       'Tet164(Dy164)Dd']]\n",
    "ss4.columns=intcol\n",
    "#print(sample.data)\n",
    "file4 = ss4.sample(10)\n",
    "#print(file2)\n",
    "file4=file4.values\n",
    "file4 = file4.reshape(file4.shape[0],file4.shape[1],1)\n",
    "file4.shape"
   ]
  },
  {
   "cell_type": "code",
   "execution_count": 222,
   "metadata": {},
   "outputs": [
    {
     "data": {
      "text/plain": [
       "(10, 32, 1)"
      ]
     },
     "execution_count": 222,
     "metadata": {},
     "output_type": "execute_result"
    }
   ],
   "source": [
    "datadir = test_data_dir\n",
    "datafile5 = test_data_file\n",
    "datafile5=\"/Users/jaiveersingh/Desktop/research/Deep_Learning_Project/Research/FCS/SDY_207/E2D5NS.388603.fcs\"\n",
    "sample5 = FCMeasurement(ID='Test Sample', datafile=datafile5)\n",
    "sample5.data = sample5.data.drop('Time',axis=1)\n",
    "ss5 = sample5.data[['Cell_length', 'CD3(Cd108)Dd',\n",
    "       'LiveDead(In115)Dd', 'MuCD45(La139)Dd', 'IL2(Pr141)Dd', 'CCR7(Nd142)Dd',\n",
    "       'CD7(Nd143)Dd', 'CD45RO(Nd144)Dd', 'CD57(Nd145)Dd', 'CD8(Nd146)Dd',\n",
    "       'CD11a(Nd148)Dd', 'MIP1b(Nd150)Dd', 'CD69(Sm149)Dd', 'TNFa(Sm152)Dd',\n",
    "       'CD27(Sm154)Dd', 'GzmB(Eu151)Dd', 'Tet156(Gd156)Dd', 'Tet158(Gd158)Dd',\n",
    "       'CD28(Gd160)Dd', 'Tet159(Tb159)Dd', 'Tet165(Ho165)Dd',\n",
    "       'CD45RA(Er166)Dd', 'CD43(Er167)Dd', 'Tet168(Er168)Dd', 'CD62L(Tm169)Dd',\n",
    "       'CD49d(Yb172)Dd', 'KLRG1(Yb174)Dd', 'MIP1a(Yb176)Dd',\n",
    "       'Perforin(Lu175)Dd', 'GMCSF(Pm147)Dd', 'CD29(Dy162)Dd',\n",
    "       'Tet164(Dy164)Dd']]\n",
    "ss5.columns=intcol\n",
    "#print(sample.data)\n",
    "file5 = ss5.sample(10)\n",
    "#print(file2)\n",
    "file5=file5.values\n",
    "file5 = file5.reshape(file5.shape[0],file5.shape[1],1)\n",
    "file5.shape"
   ]
  },
  {
   "cell_type": "code",
   "execution_count": 223,
   "metadata": {},
   "outputs": [
    {
     "data": {
      "text/plain": [
       "(10, 32, 1)"
      ]
     },
     "execution_count": 223,
     "metadata": {},
     "output_type": "execute_result"
    }
   ],
   "source": [
    "datadir = test_data_dir\n",
    "datafile6 = test_data_file\n",
    "datafile6=\"/Users/jaiveersingh/Desktop/research/Deep_Learning_Project/Research/FCS/SDY_207/E2D6EBVbrlf1.388606.fcs\"\n",
    "sample6 = FCMeasurement(ID='Test Sample', datafile=datafile6)\n",
    "sample6.data = sample6.data.drop('Time',axis=1)\n",
    "ss6 = sample6.data[['Cell_length', 'CD3(Cd108)Dd',\n",
    "       'LiveDead(In115)Dd', 'MuCD45(La139)Dd', 'IL2(Pr141)Dd', 'CCR7(Nd142)Dd',\n",
    "       'CD7(Nd143)Dd', 'CD45RO(Nd144)Dd', 'CD57(Nd145)Dd', 'CD8(Nd146)Dd',\n",
    "       'CD11a(Nd148)Dd', 'MIP1b(Nd150)Dd', 'CD69(Sm149)Dd', 'TNFa(Sm152)Dd',\n",
    "       'CD27(Sm154)Dd', 'GzmB(Eu151)Dd', 'Tet156(Gd156)Dd', 'Tet158(Gd158)Dd',\n",
    "       'CD28(Gd160)Dd', 'Tet159(Tb159)Dd', 'Tet165(Ho165)Dd',\n",
    "       'CD45RA(Er166)Dd', 'CD43(Er167)Dd', 'Tet168(Er168)Dd', 'CD62L(Tm169)Dd',\n",
    "       'CD49d(Yb172)Dd', 'KLRG1(Yb174)Dd', 'MIP1a(Yb176)Dd',\n",
    "       'Perforin(Lu175)Dd', 'GMCSF(Pm147)Dd', 'CD29(Dy162)Dd',\n",
    "       'Tet164(Dy164)Dd']]\n",
    "ss6.columns=intcol\n",
    "#print(sample.data)\n",
    "file6 = ss6.sample(10)\n",
    "#print(file2)\n",
    "file6=file6.values\n",
    "file6 = file6.reshape(file6.shape[0],file6.shape[1],1)\n",
    "file6.shape"
   ]
  },
  {
   "cell_type": "code",
   "execution_count": 224,
   "metadata": {},
   "outputs": [
    {
     "data": {
      "text/plain": [
       "(10, 32, 1)"
      ]
     },
     "execution_count": 224,
     "metadata": {},
     "output_type": "execute_result"
    }
   ],
   "source": [
    "datadir = test_data_dir\n",
    "datafile7 = test_data_file\n",
    "datafile7=\"/Users/jaiveersingh/Desktop/research/Deep_Learning_Project/Research/FCS/SDY_207/E2D5CD3.388607.fcs\"\n",
    "sample7 = FCMeasurement(ID='Test Sample', datafile=datafile7)\n",
    "sample7.data = sample7.data.drop('Time',axis=1)\n",
    "ss7 = sample7.data[['Cell_length', 'CD3(Cd108)Dd',\n",
    "       'LiveDead(In115)Dd', 'MuCD45(La139)Dd', 'IL2(Pr141)Dd', 'CCR7(Nd142)Dd',\n",
    "       'CD7(Nd143)Dd', 'CD45RO(Nd144)Dd', 'CD57(Nd145)Dd', 'CD8(Nd146)Dd',\n",
    "       'CD11a(Nd148)Dd', 'MIP1b(Nd150)Dd', 'CD69(Sm149)Dd', 'TNFa(Sm152)Dd',\n",
    "       'CD27(Sm154)Dd', 'GzmB(Eu151)Dd', 'Tet156(Gd156)Dd', 'Tet158(Gd158)Dd',\n",
    "       'CD28(Gd160)Dd', 'Tet159(Tb159)Dd', 'Tet165(Ho165)Dd',\n",
    "       'CD45RA(Er166)Dd', 'CD43(Er167)Dd', 'Tet168(Er168)Dd', 'CD62L(Tm169)Dd',\n",
    "       'CD49d(Yb172)Dd', 'KLRG1(Yb174)Dd', 'MIP1a(Yb176)Dd',\n",
    "       'Perforin(Lu175)Dd', 'GMCSF(Pm147)Dd', 'CD29(Dy162)Dd',\n",
    "       'Tet164(Dy164)Dd']]\n",
    "ss7.columns=intcol\n",
    "#print(sample.data)\n",
    "file7 = ss7.sample(10)\n",
    "#print(file2)\n",
    "file7=file7.values\n",
    "file7 = file7.reshape(file7.shape[0],file7.shape[1],1)\n",
    "file7.shape"
   ]
  },
  {
   "cell_type": "code",
   "execution_count": 225,
   "metadata": {},
   "outputs": [
    {
     "data": {
      "text/plain": [
       "(10, 32, 1)"
      ]
     },
     "execution_count": 225,
     "metadata": {},
     "output_type": "execute_result"
    }
   ],
   "source": [
    "datadir = test_data_dir\n",
    "datafile8 = test_data_file\n",
    "datafile8=\"/Users/jaiveersingh/Desktop/research/Deep_Learning_Project/Research/FCS/SDY_207/E2D6EBVbmlf1.388609.fcs\"\n",
    "sample8 = FCMeasurement(ID='Test Sample', datafile=datafile8)\n",
    "sample8.data = sample8.data.drop('Time',axis=1)\n",
    "ss8 = sample8.data[['Cell_length', 'CD3(Cd108)Dd',\n",
    "       'LiveDead(In115)Dd', 'MuCD45(La139)Dd', 'IL2(Pr141)Dd', 'CCR7(Nd142)Dd',\n",
    "       'CD7(Nd143)Dd', 'CD45RO(Nd144)Dd', 'CD57(Nd145)Dd', 'CD8(Nd146)Dd',\n",
    "       'CD11a(Nd148)Dd', 'MIP1b(Nd150)Dd', 'CD69(Sm149)Dd', 'TNFa(Sm152)Dd',\n",
    "       'CD27(Sm154)Dd', 'GzmB(Eu151)Dd', 'Tet156(Gd156)Dd', 'Tet158(Gd158)Dd',\n",
    "       'CD28(Gd160)Dd', 'Tet159(Tb159)Dd', 'Tet165(Ho165)Dd',\n",
    "       'CD45RA(Er166)Dd', 'CD43(Er167)Dd', 'Tet168(Er168)Dd', 'CD62L(Tm169)Dd',\n",
    "       'CD49d(Yb172)Dd', 'KLRG1(Yb174)Dd', 'MIP1a(Yb176)Dd',\n",
    "       'Perforin(Lu175)Dd', 'GMCSF(Pm147)Dd', 'CD29(Dy162)Dd',\n",
    "       'Tet164(Dy164)Dd']]\n",
    "ss8.columns=intcol\n",
    "#print(sample.data)\n",
    "file8 = ss8.sample(10)\n",
    "#print(file2)\n",
    "file8=file8.values\n",
    "file8 = file8.reshape(file8.shape[0],file8.shape[1],1)\n",
    "file8.shape"
   ]
  },
  {
   "cell_type": "code",
   "execution_count": 226,
   "metadata": {},
   "outputs": [
    {
     "data": {
      "text/plain": [
       "(10, 32, 1)"
      ]
     },
     "execution_count": 226,
     "metadata": {},
     "output_type": "execute_result"
    }
   ],
   "source": [
    "datadir = test_data_dir\n",
    "datafile9 = test_data_file\n",
    "datafile9=\"/Users/jaiveersingh/Desktop/research/Deep_Learning_Project/Research/FCS/SDY_207/E2D6PI.388622.fcs\"\n",
    "sample9 = FCMeasurement(ID='Test Sample', datafile=datafile9)\n",
    "sample9.data = sample9.data.drop('Time',axis=1)\n",
    "ss9 = sample9.data[['Cell_length', 'CD3(Cd108)Dd',\n",
    "       'LiveDead(In115)Dd', 'MuCD45(La139)Dd', 'IL2(Pr141)Dd', 'CCR7(Nd142)Dd',\n",
    "       'CD7(Nd143)Dd', 'CD45RO(Nd144)Dd', 'CD57(Nd145)Dd', 'CD8(Nd146)Dd',\n",
    "       'CD11a(Nd148)Dd', 'MIP1b(Nd150)Dd', 'CD69(Sm149)Dd', 'TNFa(Sm152)Dd',\n",
    "       'CD27(Sm154)Dd', 'GzmB(Eu151)Dd', 'Tet156(Gd156)Dd', 'Tet158(Gd158)Dd',\n",
    "       'CD28(Gd160)Dd', 'Tet159(Tb159)Dd', 'Tet165(Ho165)Dd',\n",
    "       'CD45RA(Er166)Dd', 'CD43(Er167)Dd', 'Tet168(Er168)Dd', 'CD62L(Tm169)Dd',\n",
    "       'CD49d(Yb172)Dd', 'KLRG1(Yb174)Dd', 'MIP1a(Yb176)Dd',\n",
    "       'Perforin(Lu175)Dd', 'GMCSF(Pm147)Dd', 'CD29(Dy162)Dd',\n",
    "       'Tet164(Dy164)Dd']]\n",
    "ss9.columns=intcol\n",
    "#print(sample.data)\n",
    "file9 = ss9.sample(10)\n",
    "#print(file2)\n",
    "file9=file9.values\n",
    "file9 = file9.reshape(file9.shape[0],file9.shape[1],1)\n",
    "file9.shape"
   ]
  },
  {
   "cell_type": "code",
   "execution_count": 227,
   "metadata": {},
   "outputs": [
    {
     "data": {
      "text/plain": [
       "(10, 32, 1)"
      ]
     },
     "execution_count": 227,
     "metadata": {},
     "output_type": "execute_result"
    }
   ],
   "source": [
    "datadir = test_data_dir\n",
    "datafile10 = test_data_file\n",
    "datafile10=\"/Users/jaiveersingh/Desktop/research/Deep_Learning_Project/Research/FCS/SDY_207/E2D5PI.388632.fcs\"\n",
    "sample10 = FCMeasurement(ID='Test Sample', datafile=datafile10)\n",
    "sample10.data = sample10.data.drop('Time',axis=1)\n",
    "ss10 = sample10.data[['Cell_length', 'CD3(Cd108)Dd',\n",
    "       'LiveDead(In115)Dd', 'MuCD45(La139)Dd', 'IL2(Pr141)Dd', 'CCR7(Nd142)Dd',\n",
    "       'CD7(Nd143)Dd', 'CD45RO(Nd144)Dd', 'CD57(Nd145)Dd', 'CD8(Nd146)Dd',\n",
    "       'CD11a(Nd148)Dd', 'MIP1b(Nd150)Dd', 'CD69(Sm149)Dd', 'TNFa(Sm152)Dd',\n",
    "       'CD27(Sm154)Dd', 'GzmB(Eu151)Dd', 'Tet156(Gd156)Dd', 'Tet158(Gd158)Dd',\n",
    "       'CD28(Gd160)Dd', 'Tet159(Tb159)Dd', 'Tet165(Ho165)Dd',\n",
    "       'CD45RA(Er166)Dd', 'CD43(Er167)Dd', 'Tet168(Er168)Dd', 'CD62L(Tm169)Dd',\n",
    "       'CD49d(Yb172)Dd', 'KLRG1(Yb174)Dd', 'MIP1a(Yb176)Dd',\n",
    "       'Perforin(Lu175)Dd', 'GMCSF(Pm147)Dd', 'CD29(Dy162)Dd',\n",
    "       'Tet164(Dy164)Dd']]\n",
    "ss10.columns=intcol\n",
    "#print(sample.data)\n",
    "file10 = ss10.sample(10)\n",
    "#print(file2)\n",
    "file10=file10.values\n",
    "file10 = file10.reshape(file10.shape[0],file10.shape[1],1)\n",
    "file10.shape"
   ]
  },
  {
   "cell_type": "code",
   "execution_count": 228,
   "metadata": {},
   "outputs": [
    {
     "data": {
      "text/plain": [
       "(10, 32, 1)"
      ]
     },
     "execution_count": 228,
     "metadata": {},
     "output_type": "execute_result"
    }
   ],
   "source": [
    "datadir = test_data_dir\n",
    "datafile11 = test_data_file\n",
    "datafile11=\"/Users/jaiveersingh/Desktop/research/Deep_Learning_Project/Research/FCS/SDY_207/E2D6CD3.388633.fcs\"\n",
    "sample11 = FCMeasurement(ID='Test Sample', datafile=datafile11)\n",
    "sample11.data = sample11.data.drop('Time',axis=1)\n",
    "ss11 = sample11.data[['Cell_length', 'CD3(Cd108)Dd',\n",
    "       'LiveDead(In115)Dd', 'MuCD45(La139)Dd', 'IL2(Pr141)Dd', 'CCR7(Nd142)Dd',\n",
    "       'CD7(Nd143)Dd', 'CD45RO(Nd144)Dd', 'CD57(Nd145)Dd', 'CD8(Nd146)Dd',\n",
    "       'CD11a(Nd148)Dd', 'MIP1b(Nd150)Dd', 'CD69(Sm149)Dd', 'TNFa(Sm152)Dd',\n",
    "       'CD27(Sm154)Dd', 'GzmB(Eu151)Dd', 'Tet156(Gd156)Dd', 'Tet158(Gd158)Dd',\n",
    "       'CD28(Gd160)Dd', 'Tet159(Tb159)Dd', 'Tet165(Ho165)Dd',\n",
    "       'CD45RA(Er166)Dd', 'CD43(Er167)Dd', 'Tet168(Er168)Dd', 'CD62L(Tm169)Dd',\n",
    "       'CD49d(Yb172)Dd', 'KLRG1(Yb174)Dd', 'MIP1a(Yb176)Dd',\n",
    "       'Perforin(Lu175)Dd', 'GMCSF(Pm147)Dd', 'CD29(Dy162)Dd',\n",
    "       'Tet164(Dy164)Dd']]\n",
    "ss11.columns=intcol\n",
    "#print(sample.data)\n",
    "file11 = ss11.sample(10)\n",
    "#print(file2)\n",
    "file11=file11.values\n",
    "file11 = file11.reshape(file11.shape[0],file11.shape[1],1)\n",
    "file11.shape"
   ]
  },
  {
   "cell_type": "code",
   "execution_count": 229,
   "metadata": {},
   "outputs": [
    {
     "data": {
      "text/plain": [
       "(10, 32, 1)"
      ]
     },
     "execution_count": 229,
     "metadata": {},
     "output_type": "execute_result"
    }
   ],
   "source": [
    "datadir = test_data_dir\n",
    "datafile12 = test_data_file\n",
    "datafile12=\"/Users/jaiveersingh/Desktop/research/Deep_Learning_Project/Research/FCS/SDY_207/E1D3NS.388604.fcs\"\n",
    "sample12 = FCMeasurement(ID='Test Sample', datafile=datafile12)\n",
    "sample12.data = sample12.data.drop('Time',axis=1)\n",
    "ss12 = sample12.data[['Cell_length', 'CD3(Cd108)Dd',\n",
    "       'LiveDead(In115)Dd', 'MuCD45(La139)Dd', 'IL2(Pr141)Dd', 'CCR7(Nd142)Dd',\n",
    "       'CD7(Nd143)Dd', 'CD45RO(Nd144)Dd', 'CD57(Nd145)Dd', 'CD8(Nd146)Dd',\n",
    "       'CD11a(Nd148)Dd', 'MIP1b(Nd150)Dd', 'CD69(Sm149)Dd', 'TNFa(Sm152)Dd',\n",
    "       'CD27(Sm154)Dd', 'GzmB(Eu151)Dd', 'Tet156(Gd156)Dd', 'Tet158(Gd158)Dd',\n",
    "       'CD28(Gd160)Dd', 'Tet159(Tb159)Dd', 'Tet165(Ho165)Dd',\n",
    "       'CD45RA(Er166)Dd', 'CD43(Er167)Dd', 'Tet168(Er168)Dd', 'CD62L(Tm169)Dd',\n",
    "       'CD49d(Yb172)Dd', 'KLRG1(Yb174)Dd', 'MIP1a(Yb176)Dd',\n",
    "       'Perforin(Lu175)Dd', 'GMCSF(Pm147)Dd', 'CD29(Dy162)Dd',\n",
    "       'Tet164(Dy164)Dd']]\n",
    "ss12.columns=intcol\n",
    "#print(sample.data)\n",
    "file12 = ss12.sample(10)\n",
    "#print(file2)\n",
    "file12=file12.values\n",
    "file12 = file12.reshape(file12.shape[0],file12.shape[1],1)\n",
    "file12.shape"
   ]
  },
  {
   "cell_type": "code",
   "execution_count": 230,
   "metadata": {},
   "outputs": [
    {
     "name": "stdout",
     "output_type": "stream",
     "text": [
      "['Cell_length', 'DNA1', 'DNA2', 'CD3', 'CD3', 'CD3', 'CD3', 'CD3', 'CD3', 'CD3', 'CD3', 'LiveDead', 'Ba138', 'MuCD45', 'IL2', 'CCR7', 'CD7', 'CD45RO', 'CD57', 'CD8', 'CD11a', 'MIP1b', 'CD69', 'TNFa', 'CD27', 'GzmB', 'CD107', 'Tet156', '157blank', 'Tet158', 'CD28', 'Tet159', 'Tet165', 'CD45RA', 'CD43', 'Tet168', 'IFNgamma', 'CD62L', 'HLADR', 'CD49d', 'blank173', 'KLRG1', 'MIP1a', 'Perforin', 'GMCSF', 'CD29', 'Tet164']\n",
      "\n",
      "['Cell_length', 'DNA', 'DNA', 'Ba128', 'MuCD45', 'Tet159', 'LiveDead', 'CD3', 'CD3', 'CD3', 'CD3', 'CD3', 'CD3', 'CD3', 'IL2', 'CCR7', 'CD7', 'CD45RO', 'CD57', 'CD8', 'CD11a', 'MIP1b', 'CD69', 'TNFa', 'CD27', 'GzmB', 'CD107ab', 'Blank', 'CD29', 'Blank', 'Tet164', 'Tet165', 'CD45RA', 'CD43', 'Tet168', 'IFN-g', 'CD62L', 'HLA-DR', 'CD49d', 'Blank', 'KLRG1', 'MIP1a', 'Perforin', 'Blank', 'GMCSF', 'Blank', 'Tet156', 'Blank', 'Tet158', 'CD28']\n",
      "\n",
      "['Cell_length', 'LiveDead', 'CD8', 'GzmB', 'CD57', 'CCR7', 'CD27', 'CD29', 'KLRG1', 'Tet159', 'CD45RA', 'CD45RO', 'CD43', 'CD28', 'CD69', 'IL2', 'Tet168', 'MIP1b', 'TNFa', 'CD3', 'Tet165', 'CD62L', 'Tet158', 'MIP1a', 'Tet164', 'Tet156', 'Perforin', 'CD49d', 'CD7', 'GMCSF', 'MuCD45', 'CD11a']\n"
     ]
    }
   ],
   "source": [
    "import re\n",
    "newcol=[]\n",
    "for i in range(len(one)):\n",
    "    a = one[i]\n",
    "    b = re.sub(\"\\(.*\", \"\", a)\n",
    "    newcol.append(b)\n",
    "print(newcol)\n",
    "print()\n",
    "newcol1=[]\n",
    "for i in range(len(two)):\n",
    "    a = two[i]\n",
    "    b = re.sub(\"\\(.*\", \"\", a)\n",
    "    newcol1.append(b)\n",
    "print(newcol1)\n",
    "print()\n",
    "intcol = list(set(newcol).intersection(newcol1))\n",
    "print(intcol)"
   ]
  },
  {
   "cell_type": "code",
   "execution_count": 231,
   "metadata": {},
   "outputs": [
    {
     "data": {
      "text/plain": [
       "(10, 32, 1)"
      ]
     },
     "execution_count": 231,
     "metadata": {},
     "output_type": "execute_result"
    }
   ],
   "source": [
    "datadir = test_data_dir\n",
    "datafile13 = test_data_file\n",
    "datafile13=\"/Users/jaiveersingh/Desktop/research/Deep_Learning_Project/Research/FCS/SDY_207/E1D3EBVbrlf1.388611.fcs\"\n",
    "sample13 = FCMeasurement(ID='Test Sample', datafile=datafile13)\n",
    "sample13.data = sample13.data.drop('Time',axis=1)\n",
    "ss13 = sample13.data[['Cell_length', 'CD3(Cd108)Dd',\n",
    "       'LiveDead(In115)Dd', 'MuCD45(La139)Dd', 'IL2(Pr141)Dd', 'CCR7(Nd142)Dd',\n",
    "       'CD7(Nd143)Dd', 'CD45RO(Nd144)Dd', 'CD57(Nd145)Dd', 'CD8(Nd146)Dd',\n",
    "       'CD11a(Nd148)Dd', 'MIP1b(Nd150)Dd', 'CD69(Sm149)Dd', 'TNFa(Sm152)Dd',\n",
    "       'CD27(Sm154)Dd', 'GzmB(Eu151)Dd', 'Tet156(Gd156)Dd', 'Tet158(Gd158)Dd',\n",
    "       'CD28(Gd160)Dd', 'Tet159(Tb159)Dd', 'Tet165(Ho165)Dd',\n",
    "       'CD45RA(Er166)Dd', 'CD43(Er167)Dd', 'Tet168(Er168)Dd', 'CD62L(Tm169)Dd',\n",
    "       'CD49d(Yb172)Dd', 'KLRG1(Yb174)Dd', 'MIP1a(Yb176)Dd',\n",
    "       'Perforin(Lu175)Dd', 'GMCSF(Pm147)Dd', 'CD29(Dy162)Dd',\n",
    "       'Tet164(Dy164)Dd']]\n",
    "ss13.columns=intcol\n",
    "#print(sample.data)\n",
    "file13 = ss13.sample(10)\n",
    "#print(file2)\n",
    "file13=file13.values\n",
    "file13 = file13.reshape(file13.shape[0],file13.shape[1],1)\n",
    "file13.shape"
   ]
  },
  {
   "cell_type": "code",
   "execution_count": 232,
   "metadata": {},
   "outputs": [
    {
     "data": {
      "text/plain": [
       "(10, 32, 1)"
      ]
     },
     "execution_count": 232,
     "metadata": {},
     "output_type": "execute_result"
    }
   ],
   "source": [
    "datadir = test_data_dir\n",
    "datafile14 = test_data_file\n",
    "datafile14=\"/Users/jaiveersingh/Desktop/research/Deep_Learning_Project/Research/FCS/SDY_207/E1D4CMVApp65.388591.fcs\"\n",
    "sample14 = FCMeasurement(ID='Test Sample', datafile=datafile14)\n",
    "sample14.data = sample14.data.drop('Time',axis=1)\n",
    "ss14 = sample14.data[['Cell_length', 'CD3(Cd108)Dd',\n",
    "       'LiveDead(In115)Dd', 'MuCD45(La139)Dd', 'IL2(Pr141)Dd', 'CCR7(Nd142)Dd',\n",
    "       'CD7(Nd143)Dd', 'CD45RO(Nd144)Dd', 'CD57(Nd145)Dd', 'CD8(Nd146)Dd',\n",
    "       'CD11a(Nd148)Dd', 'MIP1b(Nd150)Dd', 'CD69(Sm149)Dd', 'TNFa(Sm152)Dd',\n",
    "       'CD27(Sm154)Dd', 'GzmB(Eu151)Dd', 'Tet156(Gd156)Dd', 'Tet158(Gd158)Dd',\n",
    "       'CD28(Gd160)Dd', 'Tet159(Tb159)Dd', 'Tet165(Ho165)Dd',\n",
    "       'CD45RA(Er166)Dd', 'CD43(Er167)Dd', 'Tet168(Er168)Dd', 'CD62L(Tm169)Dd',\n",
    "       'CD49d(Yb172)Dd', 'KLRG1(Yb174)Dd', 'MIP1a(Yb176)Dd',\n",
    "       'Perforin(Lu175)Dd', 'GMCSF(Pm147)Dd', 'CD29(Dy162)Dd',\n",
    "       'Tet164(Dy164)Dd']]\n",
    "ss14.columns=intcol\n",
    "file14 = ss14.sample(10)\n",
    "#print(file2)\n",
    "file14=file14.values\n",
    "file14 = file14.reshape(file14.shape[0],file14.shape[1],1)\n",
    "file14.shape"
   ]
  },
  {
   "cell_type": "code",
   "execution_count": 233,
   "metadata": {},
   "outputs": [
    {
     "data": {
      "text/plain": [
       "(10, 32, 1)"
      ]
     },
     "execution_count": 233,
     "metadata": {},
     "output_type": "execute_result"
    }
   ],
   "source": [
    "datadir = test_data_dir\n",
    "datafile15 = test_data_file\n",
    "datafile15=\"/Users/jaiveersingh/Desktop/research/Deep_Learning_Project/Research/FCS/SDY_207/E1D4NS.388598.fcs\"\n",
    "sample15 = FCMeasurement(ID='Test Sample', datafile=datafile15)\n",
    "sample15.data = sample15.data.drop('Time',axis=1)\n",
    "ss15 = sample15.data[['Cell_length', 'CD3(Cd108)Dd',\n",
    "       'LiveDead(In115)Dd', 'MuCD45(La139)Dd', 'IL2(Pr141)Dd', 'CCR7(Nd142)Dd',\n",
    "       'CD7(Nd143)Dd', 'CD45RO(Nd144)Dd', 'CD57(Nd145)Dd', 'CD8(Nd146)Dd',\n",
    "       'CD11a(Nd148)Dd', 'MIP1b(Nd150)Dd', 'CD69(Sm149)Dd', 'TNFa(Sm152)Dd',\n",
    "       'CD27(Sm154)Dd', 'GzmB(Eu151)Dd', 'Tet156(Gd156)Dd', 'Tet158(Gd158)Dd',\n",
    "       'CD28(Gd160)Dd', 'Tet159(Tb159)Dd', 'Tet165(Ho165)Dd',\n",
    "       'CD45RA(Er166)Dd', 'CD43(Er167)Dd', 'Tet168(Er168)Dd', 'CD62L(Tm169)Dd',\n",
    "       'CD49d(Yb172)Dd', 'KLRG1(Yb174)Dd', 'MIP1a(Yb176)Dd',\n",
    "       'Perforin(Lu175)Dd', 'GMCSF(Pm147)Dd', 'CD29(Dy162)Dd',\n",
    "       'Tet164(Dy164)Dd']]\n",
    "ss15.columns=intcol\n",
    "file15 = ss15.sample(10)\n",
    "#print(file2)\n",
    "file15=file15.values\n",
    "file15 = file15.reshape(file15.shape[0],file15.shape[1],1)\n",
    "file15.shape"
   ]
  },
  {
   "cell_type": "code",
   "execution_count": 234,
   "metadata": {},
   "outputs": [
    {
     "data": {
      "text/plain": [
       "(10, 32, 1)"
      ]
     },
     "execution_count": 234,
     "metadata": {},
     "output_type": "execute_result"
    }
   ],
   "source": [
    "datadir = test_data_dir\n",
    "datafile16 = test_data_file\n",
    "datafile16=\"/Users/jaiveersingh/Desktop/research/Deep_Learning_Project/Research/FCS/SDY_207/E1D4CMVBpp65-1.388602.fcs\"\n",
    "sample16 = FCMeasurement(ID='Test Sample', datafile=datafile16)\n",
    "sample16.data = sample16.data.drop('Time',axis=1)\n",
    "ss16 = sample16.data[['Cell_length', 'CD3(Cd108)Dd',\n",
    "       'LiveDead(In115)Dd', 'MuCD45(La139)Dd', 'IL2(Pr141)Dd', 'CCR7(Nd142)Dd',\n",
    "       'CD7(Nd143)Dd', 'CD45RO(Nd144)Dd', 'CD57(Nd145)Dd', 'CD8(Nd146)Dd',\n",
    "       'CD11a(Nd148)Dd', 'MIP1b(Nd150)Dd', 'CD69(Sm149)Dd', 'TNFa(Sm152)Dd',\n",
    "       'CD27(Sm154)Dd', 'GzmB(Eu151)Dd', 'Tet156(Gd156)Dd', 'Tet158(Gd158)Dd',\n",
    "       'CD28(Gd160)Dd', 'Tet159(Tb159)Dd', 'Tet165(Ho165)Dd',\n",
    "       'CD45RA(Er166)Dd', 'CD43(Er167)Dd', 'Tet168(Er168)Dd', 'CD62L(Tm169)Dd',\n",
    "       'CD49d(Yb172)Dd', 'KLRG1(Yb174)Dd', 'MIP1a(Yb176)Dd',\n",
    "       'Perforin(Lu175)Dd', 'GMCSF(Pm147)Dd', 'CD29(Dy162)Dd',\n",
    "       'Tet164(Dy164)Dd']]\n",
    "ss16.columns=intcol\n",
    "file16 = ss16.sample(10)\n",
    "#print(file2)\n",
    "file16=file16.values\n",
    "file16 = file16.reshape(file16.shape[0],file16.shape[1],1)\n",
    "file16.shape"
   ]
  },
  {
   "cell_type": "code",
   "execution_count": 235,
   "metadata": {},
   "outputs": [
    {
     "data": {
      "text/plain": [
       "(10, 32, 1)"
      ]
     },
     "execution_count": 235,
     "metadata": {},
     "output_type": "execute_result"
    }
   ],
   "source": [
    "datadir = test_data_dir\n",
    "datafile17 = test_data_file\n",
    "datafile17=\"/Users/jaiveersingh/Desktop/research/Deep_Learning_Project/Research/FCS/SDY_207/E1D4PI.388605.fcs\"\n",
    "sample17 = FCMeasurement(ID='Test Sample', datafile=datafile17)\n",
    "sample17.data = sample17.data.drop('Time',axis=1)\n",
    "ss17 = sample15.data[['Cell_length', 'CD3(Cd108)Dd',\n",
    "       'LiveDead(In115)Dd', 'MuCD45(La139)Dd', 'IL2(Pr141)Dd', 'CCR7(Nd142)Dd',\n",
    "       'CD7(Nd143)Dd', 'CD45RO(Nd144)Dd', 'CD57(Nd145)Dd', 'CD8(Nd146)Dd',\n",
    "       'CD11a(Nd148)Dd', 'MIP1b(Nd150)Dd', 'CD69(Sm149)Dd', 'TNFa(Sm152)Dd',\n",
    "       'CD27(Sm154)Dd', 'GzmB(Eu151)Dd', 'Tet156(Gd156)Dd', 'Tet158(Gd158)Dd',\n",
    "       'CD28(Gd160)Dd', 'Tet159(Tb159)Dd', 'Tet165(Ho165)Dd',\n",
    "       'CD45RA(Er166)Dd', 'CD43(Er167)Dd', 'Tet168(Er168)Dd', 'CD62L(Tm169)Dd',\n",
    "       'CD49d(Yb172)Dd', 'KLRG1(Yb174)Dd', 'MIP1a(Yb176)Dd',\n",
    "       'Perforin(Lu175)Dd', 'GMCSF(Pm147)Dd', 'CD29(Dy162)Dd',\n",
    "       'Tet164(Dy164)Dd']]\n",
    "ss17.columns=intcol\n",
    "file17 = ss17.sample(10)\n",
    "#print(file2)\n",
    "file17=file17.values\n",
    "file17 = file17.reshape(file17.shape[0],file17.shape[1],1)\n",
    "file17.shape"
   ]
  },
  {
   "cell_type": "code",
   "execution_count": 236,
   "metadata": {},
   "outputs": [
    {
     "data": {
      "text/plain": [
       "(10, 32, 1)"
      ]
     },
     "execution_count": 236,
     "metadata": {},
     "output_type": "execute_result"
    }
   ],
   "source": [
    "datadir = test_data_dir\n",
    "datafile18 = test_data_file\n",
    "datafile18=\"/Users/jaiveersingh/Desktop/research/Deep_Learning_Project/Research/FCS/SDY_207/E1D4EBVbrlf.388624.fcs\"\n",
    "sample18 = FCMeasurement(ID='Test Sample', datafile=datafile18)\n",
    "sample18.data = sample18.data.drop('Time',axis=1)\n",
    "ss18 = sample18.data[['Cell_length', 'CD3(Cd108)Dd',\n",
    "       'LiveDead(In115)Dd', 'MuCD45(La139)Dd', 'IL2(Pr141)Dd', 'CCR7(Nd142)Dd',\n",
    "       'CD7(Nd143)Dd', 'CD45RO(Nd144)Dd', 'CD57(Nd145)Dd', 'CD8(Nd146)Dd',\n",
    "       'CD11a(Nd148)Dd', 'MIP1b(Nd150)Dd', 'CD69(Sm149)Dd', 'TNFa(Sm152)Dd',\n",
    "       'CD27(Sm154)Dd', 'GzmB(Eu151)Dd', 'Tet156(Gd156)Dd', 'Tet158(Gd158)Dd',\n",
    "       'CD28(Gd160)Dd', 'Tet159(Tb159)Dd', 'Tet165(Ho165)Dd',\n",
    "       'CD45RA(Er166)Dd', 'CD43(Er167)Dd', 'Tet168(Er168)Dd', 'CD62L(Tm169)Dd',\n",
    "       'CD49d(Yb172)Dd', 'KLRG1(Yb174)Dd', 'MIP1a(Yb176)Dd',\n",
    "       'Perforin(Lu175)Dd', 'GMCSF(Pm147)Dd', 'CD29(Dy162)Dd',\n",
    "       'Tet164(Dy164)Dd']]\n",
    "ss18.columns=intcol\n",
    "file18 = ss18.sample(10)\n",
    "#print(file2)\n",
    "file18=file18.values\n",
    "file18 = file18.reshape(file18.shape[0],file18.shape[1],1)\n",
    "file18.shape"
   ]
  },
  {
   "cell_type": "code",
   "execution_count": 237,
   "metadata": {},
   "outputs": [
    {
     "data": {
      "text/plain": [
       "(10, 32, 1)"
      ]
     },
     "execution_count": 237,
     "metadata": {},
     "output_type": "execute_result"
    }
   ],
   "source": [
    "datadir = test_data_dir\n",
    "datafile19 = test_data_file\n",
    "datafile19=\"/Users/jaiveersingh/Desktop/research/Deep_Learning_Project/Research/FCS/SDY_207/E1D4CMVBpp65-2.388625.fcs\"\n",
    "sample19 = FCMeasurement(ID='Test Sample', datafile=datafile19)\n",
    "sample19.data = sample19.data.drop('Time',axis=1)\n",
    "ss19 = sample19.data[['Cell_length', 'CD3(Cd108)Dd',\n",
    "       'LiveDead(In115)Dd', 'MuCD45(La139)Dd', 'IL2(Pr141)Dd', 'CCR7(Nd142)Dd',\n",
    "       'CD7(Nd143)Dd', 'CD45RO(Nd144)Dd', 'CD57(Nd145)Dd', 'CD8(Nd146)Dd',\n",
    "       'CD11a(Nd148)Dd', 'MIP1b(Nd150)Dd', 'CD69(Sm149)Dd', 'TNFa(Sm152)Dd',\n",
    "       'CD27(Sm154)Dd', 'GzmB(Eu151)Dd', 'Tet156(Gd156)Dd', 'Tet158(Gd158)Dd',\n",
    "       'CD28(Gd160)Dd', 'Tet159(Tb159)Dd', 'Tet165(Ho165)Dd',\n",
    "       'CD45RA(Er166)Dd', 'CD43(Er167)Dd', 'Tet168(Er168)Dd', 'CD62L(Tm169)Dd',\n",
    "       'CD49d(Yb172)Dd', 'KLRG1(Yb174)Dd', 'MIP1a(Yb176)Dd',\n",
    "       'Perforin(Lu175)Dd', 'GMCSF(Pm147)Dd', 'CD29(Dy162)Dd',\n",
    "       'Tet164(Dy164)Dd']]\n",
    "ss19.columns=intcol\n",
    "file19 = ss19.sample(10)\n",
    "#print(file2)\n",
    "file19=file19.values\n",
    "file19 = file19.reshape(file19.shape[0],file19.shape[1],1)\n",
    "file19.shape"
   ]
  },
  {
   "cell_type": "code",
   "execution_count": 238,
   "metadata": {},
   "outputs": [
    {
     "data": {
      "text/plain": [
       "(10, 32, 1)"
      ]
     },
     "execution_count": 238,
     "metadata": {},
     "output_type": "execute_result"
    }
   ],
   "source": [
    "datadir = test_data_dir\n",
    "datafile20 = test_data_file\n",
    "datafile20=\"/Users/jaiveersingh/Desktop/research/Deep_Learning_Project/Research/FCS/SDY_207/E1D4Flu.388628.fcs\"\n",
    "sample20 = FCMeasurement(ID='Test Sample', datafile=datafile20)\n",
    "sample20.data = sample20.data.drop('Time',axis=1)\n",
    "ss20 = sample20.data[['Cell_length', 'CD3(Cd108)Dd',\n",
    "       'LiveDead(In115)Dd', 'MuCD45(La139)Dd', 'IL2(Pr141)Dd', 'CCR7(Nd142)Dd',\n",
    "       'CD7(Nd143)Dd', 'CD45RO(Nd144)Dd', 'CD57(Nd145)Dd', 'CD8(Nd146)Dd',\n",
    "       'CD11a(Nd148)Dd', 'MIP1b(Nd150)Dd', 'CD69(Sm149)Dd', 'TNFa(Sm152)Dd',\n",
    "       'CD27(Sm154)Dd', 'GzmB(Eu151)Dd', 'Tet156(Gd156)Dd', 'Tet158(Gd158)Dd',\n",
    "       'CD28(Gd160)Dd', 'Tet159(Tb159)Dd', 'Tet165(Ho165)Dd',\n",
    "       'CD45RA(Er166)Dd', 'CD43(Er167)Dd', 'Tet168(Er168)Dd', 'CD62L(Tm169)Dd',\n",
    "       'CD49d(Yb172)Dd', 'KLRG1(Yb174)Dd', 'MIP1a(Yb176)Dd',\n",
    "       'Perforin(Lu175)Dd', 'GMCSF(Pm147)Dd', 'CD29(Dy162)Dd',\n",
    "       'Tet164(Dy164)Dd']]\n",
    "ss20.columns=intcol\n",
    "#print(ss20)\n",
    "file20 = ss20.sample(10)\n",
    "#print(file2)\n",
    "file20=file20.values\n",
    "file20 = file20.reshape(file20.shape[0],file20.shape[1],1)\n",
    "file20.shape"
   ]
  },
  {
   "cell_type": "code",
   "execution_count": 239,
   "metadata": {},
   "outputs": [
    {
     "data": {
      "text/plain": [
       "(10, 32, 1)"
      ]
     },
     "execution_count": 239,
     "metadata": {},
     "output_type": "execute_result"
    }
   ],
   "source": [
    "datadir = test_data_dir\n",
    "datafile21 = test_data_file\n",
    "datafile21=\"/Users/jaiveersingh/Desktop/research/Deep_Learning_Project/Research/FCS/SDY_207/E1D4EBVebna3a.388630.fcs\"\n",
    "sample21 = FCMeasurement(ID='Test Sample', datafile=datafile21)\n",
    "sample21.data = sample21.data.drop('Time',axis=1)\n",
    "ss21 = sample21.data[['Cell_length', 'CD3(Cd108)Dd',\n",
    "       'LiveDead(In115)Dd', 'MuCD45(La139)Dd', 'IL2(Pr141)Dd', 'CCR7(Nd142)Dd',\n",
    "       'CD7(Nd143)Dd', 'CD45RO(Nd144)Dd', 'CD57(Nd145)Dd', 'CD8(Nd146)Dd',\n",
    "       'CD11a(Nd148)Dd', 'MIP1b(Nd150)Dd', 'CD69(Sm149)Dd', 'TNFa(Sm152)Dd',\n",
    "       'CD27(Sm154)Dd', 'GzmB(Eu151)Dd', 'Tet156(Gd156)Dd', 'Tet158(Gd158)Dd',\n",
    "       'CD28(Gd160)Dd', 'Tet159(Tb159)Dd', 'Tet165(Ho165)Dd',\n",
    "       'CD45RA(Er166)Dd', 'CD43(Er167)Dd', 'Tet168(Er168)Dd', 'CD62L(Tm169)Dd',\n",
    "       'CD49d(Yb172)Dd', 'KLRG1(Yb174)Dd', 'MIP1a(Yb176)Dd',\n",
    "       'Perforin(Lu175)Dd', 'GMCSF(Pm147)Dd', 'CD29(Dy162)Dd',\n",
    "       'Tet164(Dy164)Dd']]\n",
    "ss21.columns=intcol\n",
    "#print(ss20)\n",
    "file21 = ss21.sample(10)\n",
    "#print(file2)\n",
    "file21=file21.values\n",
    "file21 = file21.reshape(file21.shape[0],file21.shape[1],1)\n",
    "file21.shape"
   ]
  },
  {
   "cell_type": "code",
   "execution_count": 240,
   "metadata": {},
   "outputs": [
    {
     "data": {
      "text/plain": [
       "(10, 32, 1)"
      ]
     },
     "execution_count": 240,
     "metadata": {},
     "output_type": "execute_result"
    }
   ],
   "source": [
    "datadir = test_data_dir\n",
    "datafile22 = test_data_file\n",
    "datafile22=\"/Users/jaiveersingh/Desktop/research/Deep_Learning_Project/Research/FCS/SDY_207/E1D1EBVebna3.388592.fcs\"\n",
    "sample22 = FCMeasurement(ID='Test Sample', datafile=datafile22)\n",
    "sample22.data = sample22.data.drop('Time',axis=1)\n",
    "ss22 = sample22.data[['Cell_length', 'CD3(Cd108)Dd',\n",
    "       'LiveDead(In115)Dd', 'MuCD45(La139)Dd', 'IL2(Pr141)Dd', 'CCR7(Nd142)Dd',\n",
    "       'CD7(Nd143)Dd', 'CD45RO(Nd144)Dd', 'CD57(Nd145)Dd', 'CD8(Nd146)Dd',\n",
    "       'CD11a(Nd148)Dd', 'MIP1b(Nd150)Dd', 'CD69(Sm149)Dd', 'TNFa(Sm152)Dd',\n",
    "       'CD27(Sm154)Dd', 'GzmB(Eu151)Dd', 'Tet156(Gd156)Dd', 'Tet158(Gd158)Dd',\n",
    "       'CD28(Gd160)Dd', 'Tet159(Tb159)Dd', 'Tet165(Ho165)Dd',\n",
    "       'CD45RA(Er166)Dd', 'CD43(Er167)Dd', 'Tet168(Er168)Dd', 'CD62L(Tm169)Dd',\n",
    "       'CD49d(Yb172)Dd', 'KLRG1(Yb174)Dd', 'MIP1a(Yb176)Dd',\n",
    "       'Perforin(Lu175)Dd', 'GMCSF(Pm147)Dd', 'CD29(Dy162)Dd',\n",
    "       'Tet164(Dy164)Dd']]\n",
    "ss22.columns=intcol\n",
    "#print(ss20)\n",
    "file22 = ss22.sample(10)\n",
    "#print(file2)\n",
    "file22=file22.values\n",
    "file22 = file22.reshape(file22.shape[0],file22.shape[1],1)\n",
    "file22.shape"
   ]
  },
  {
   "cell_type": "code",
   "execution_count": 242,
   "metadata": {},
   "outputs": [
    {
     "data": {
      "text/plain": [
       "(10, 32, 1)"
      ]
     },
     "execution_count": 242,
     "metadata": {},
     "output_type": "execute_result"
    }
   ],
   "source": [
    "datadir = test_data_dir\n",
    "datafile23 = test_data_file\n",
    "datafile23=\"/Users/jaiveersingh/Desktop/research/Deep_Learning_Project/Research/FCS/SDY_207/E1D1PI.388597.fcs\"\n",
    "sample23 = FCMeasurement(ID='Test Sample', datafile=datafile23)\n",
    "sample23.data = sample23.data.drop('Time',axis=1)\n",
    "ss23 = sample23.data[['Cell_length', 'CD3(Cd108)Dd',\n",
    "       'LiveDead(In115)Dd', 'MuCD45(La139)Dd', 'IL2(Pr141)Dd', 'CCR7(Nd142)Dd',\n",
    "       'CD7(Nd143)Dd', 'CD45RO(Nd144)Dd', 'CD57(Nd145)Dd', 'CD8(Nd146)Dd',\n",
    "       'CD11a(Nd148)Dd', 'MIP1b(Nd150)Dd', 'CD69(Sm149)Dd', 'TNFa(Sm152)Dd',\n",
    "       'CD27(Sm154)Dd', 'GzmB(Eu151)Dd', 'Tet156(Gd156)Dd', 'Tet158(Gd158)Dd',\n",
    "       'CD28(Gd160)Dd', 'Tet159(Tb159)Dd', 'Tet165(Ho165)Dd',\n",
    "       'CD45RA(Er166)Dd', 'CD43(Er167)Dd', 'Tet168(Er168)Dd', 'CD62L(Tm169)Dd',\n",
    "       'CD49d(Yb172)Dd', 'KLRG1(Yb174)Dd', 'MIP1a(Yb176)Dd',\n",
    "       'Perforin(Lu175)Dd', 'GMCSF(Pm147)Dd', 'CD29(Dy162)Dd',\n",
    "       'Tet164(Dy164)Dd']]\n",
    "ss23.columns=intcol\n",
    "#print(ss20)\n",
    "file23 = ss23.sample(10)\n",
    "#print(file2)\n",
    "file23=file23.values\n",
    "file23 = file23.reshape(file23.shape[0],file23.shape[1],1)\n",
    "file23.shape"
   ]
  },
  {
   "cell_type": "code",
   "execution_count": 243,
   "metadata": {},
   "outputs": [
    {
     "data": {
      "text/plain": [
       "(10, 32, 1)"
      ]
     },
     "execution_count": 243,
     "metadata": {},
     "output_type": "execute_result"
    }
   ],
   "source": [
    "datadir = test_data_dir\n",
    "datafile24 = test_data_file\n",
    "datafile24=\"/Users/jaiveersingh/Desktop/research/Deep_Learning_Project/Research/FCS/SDY_207/E1D1NS.388599.fcs\"\n",
    "sample24 = FCMeasurement(ID='Test Sample', datafile=datafile24)\n",
    "sample24.data = sample24.data.drop('Time',axis=1)\n",
    "ss24 = sample24.data[['Cell_length', 'CD3(Cd108)Dd',\n",
    "       'LiveDead(In115)Dd', 'MuCD45(La139)Dd', 'IL2(Pr141)Dd', 'CCR7(Nd142)Dd',\n",
    "       'CD7(Nd143)Dd', 'CD45RO(Nd144)Dd', 'CD57(Nd145)Dd', 'CD8(Nd146)Dd',\n",
    "       'CD11a(Nd148)Dd', 'MIP1b(Nd150)Dd', 'CD69(Sm149)Dd', 'TNFa(Sm152)Dd',\n",
    "       'CD27(Sm154)Dd', 'GzmB(Eu151)Dd', 'Tet156(Gd156)Dd', 'Tet158(Gd158)Dd',\n",
    "       'CD28(Gd160)Dd', 'Tet159(Tb159)Dd', 'Tet165(Ho165)Dd',\n",
    "       'CD45RA(Er166)Dd', 'CD43(Er167)Dd', 'Tet168(Er168)Dd', 'CD62L(Tm169)Dd',\n",
    "       'CD49d(Yb172)Dd', 'KLRG1(Yb174)Dd', 'MIP1a(Yb176)Dd',\n",
    "       'Perforin(Lu175)Dd', 'GMCSF(Pm147)Dd', 'CD29(Dy162)Dd',\n",
    "       'Tet164(Dy164)Dd']]\n",
    "ss24.columns=intcol\n",
    "#print(ss20)\n",
    "file24 = ss24.sample(10)\n",
    "#print(file2)\n",
    "file24=file24.values\n",
    "file24 = file24.reshape(file24.shape[0],file24.shape[1],1)\n",
    "file24.shape"
   ]
  },
  {
   "cell_type": "code",
   "execution_count": 244,
   "metadata": {},
   "outputs": [
    {
     "data": {
      "text/plain": [
       "(10, 32, 1)"
      ]
     },
     "execution_count": 244,
     "metadata": {},
     "output_type": "execute_result"
    }
   ],
   "source": [
    "datadir = test_data_dir\n",
    "datafile25 = test_data_file\n",
    "datafile25=\"/Users/jaiveersingh/Desktop/research/Deep_Learning_Project/Research/FCS/SDY_207/E1D1CMVBpp56-1.388608.fcs\"\n",
    "sample25 = FCMeasurement(ID='Test Sample', datafile=datafile25)\n",
    "sample25.data = sample25.data.drop('Time',axis=1)\n",
    "ss25 = sample25.data[['Cell_length', 'CD3(Cd108)Dd',\n",
    "       'LiveDead(In115)Dd', 'MuCD45(La139)Dd', 'IL2(Pr141)Dd', 'CCR7(Nd142)Dd',\n",
    "       'CD7(Nd143)Dd', 'CD45RO(Nd144)Dd', 'CD57(Nd145)Dd', 'CD8(Nd146)Dd',\n",
    "       'CD11a(Nd148)Dd', 'MIP1b(Nd150)Dd', 'CD69(Sm149)Dd', 'TNFa(Sm152)Dd',\n",
    "       'CD27(Sm154)Dd', 'GzmB(Eu151)Dd', 'Tet156(Gd156)Dd', 'Tet158(Gd158)Dd',\n",
    "       'CD28(Gd160)Dd', 'Tet159(Tb159)Dd', 'Tet165(Ho165)Dd',\n",
    "       'CD45RA(Er166)Dd', 'CD43(Er167)Dd', 'Tet168(Er168)Dd', 'CD62L(Tm169)Dd',\n",
    "       'CD49d(Yb172)Dd', 'KLRG1(Yb174)Dd', 'MIP1a(Yb176)Dd',\n",
    "       'Perforin(Lu175)Dd', 'GMCSF(Pm147)Dd', 'CD29(Dy162)Dd',\n",
    "       'Tet164(Dy164)Dd']]\n",
    "ss25.columns=intcol\n",
    "#print(ss20)\n",
    "file25 = ss25.sample(10)\n",
    "#print(file2)\n",
    "file25=file25.values\n",
    "file25 = file25.reshape(file25.shape[0],file25.shape[1],1)\n",
    "file25.shape"
   ]
  },
  {
   "cell_type": "code",
   "execution_count": 246,
   "metadata": {},
   "outputs": [
    {
     "data": {
      "text/plain": [
       "(10, 32, 1)"
      ]
     },
     "execution_count": 246,
     "metadata": {},
     "output_type": "execute_result"
    }
   ],
   "source": [
    "datadir = test_data_dir\n",
    "datafile26 = test_data_file\n",
    "datafile26=\"/Users/jaiveersingh/Desktop/research/Deep_Learning_Project/Research/FCS/SDY_207/E1D1EBVbrlf1.388621.fcs\"\n",
    "sample26 = FCMeasurement(ID='Test Sample', datafile=datafile26)\n",
    "sample26.data = sample26.data.drop('Time',axis=1)\n",
    "ss26 = sample26.data[['Cell_length', 'CD3(Cd108)Dd',\n",
    "       'LiveDead(In115)Dd', 'MuCD45(La139)Dd', 'IL2(Pr141)Dd', 'CCR7(Nd142)Dd',\n",
    "       'CD7(Nd143)Dd', 'CD45RO(Nd144)Dd', 'CD57(Nd145)Dd', 'CD8(Nd146)Dd',\n",
    "       'CD11a(Nd148)Dd', 'MIP1b(Nd150)Dd', 'CD69(Sm149)Dd', 'TNFa(Sm152)Dd',\n",
    "       'CD27(Sm154)Dd', 'GzmB(Eu151)Dd', 'Tet156(Gd156)Dd', 'Tet158(Gd158)Dd',\n",
    "       'CD28(Gd160)Dd', 'Tet159(Tb159)Dd', 'Tet165(Ho165)Dd',\n",
    "       'CD45RA(Er166)Dd', 'CD43(Er167)Dd', 'Tet168(Er168)Dd', 'CD62L(Tm169)Dd',\n",
    "       'CD49d(Yb172)Dd', 'KLRG1(Yb174)Dd', 'MIP1a(Yb176)Dd',\n",
    "       'Perforin(Lu175)Dd', 'GMCSF(Pm147)Dd', 'CD29(Dy162)Dd',\n",
    "       'Tet164(Dy164)Dd']]\n",
    "ss26.columns=intcol\n",
    "#print(ss20)\n",
    "file26 = ss26.sample(10)\n",
    "#print(file2)\n",
    "file26=file26.values\n",
    "file26 = file26.reshape(file26.shape[0],file26.shape[1],1)\n",
    "file26.shape"
   ]
  },
  {
   "cell_type": "code",
   "execution_count": 247,
   "metadata": {},
   "outputs": [
    {
     "data": {
      "text/plain": [
       "(10, 32, 1)"
      ]
     },
     "execution_count": 247,
     "metadata": {},
     "output_type": "execute_result"
    }
   ],
   "source": [
    "datadir = test_data_dir\n",
    "datafile27 = test_data_file\n",
    "datafile27=\"/Users/jaiveersingh/Desktop/research/Deep_Learning_Project/Research/FCS/SDY_207/E1D1CMVApp65.388623.fcs\"\n",
    "sample27 = FCMeasurement(ID='Test Sample', datafile=datafile27)\n",
    "sample27.data = sample27.data.drop('Time',axis=1)\n",
    "ss27 = sample27.data[['Cell_length', 'CD3(Cd108)Dd',\n",
    "       'LiveDead(In115)Dd', 'MuCD45(La139)Dd', 'IL2(Pr141)Dd', 'CCR7(Nd142)Dd',\n",
    "       'CD7(Nd143)Dd', 'CD45RO(Nd144)Dd', 'CD57(Nd145)Dd', 'CD8(Nd146)Dd',\n",
    "       'CD11a(Nd148)Dd', 'MIP1b(Nd150)Dd', 'CD69(Sm149)Dd', 'TNFa(Sm152)Dd',\n",
    "       'CD27(Sm154)Dd', 'GzmB(Eu151)Dd', 'Tet156(Gd156)Dd', 'Tet158(Gd158)Dd',\n",
    "       'CD28(Gd160)Dd', 'Tet159(Tb159)Dd', 'Tet165(Ho165)Dd',\n",
    "       'CD45RA(Er166)Dd', 'CD43(Er167)Dd', 'Tet168(Er168)Dd', 'CD62L(Tm169)Dd',\n",
    "       'CD49d(Yb172)Dd', 'KLRG1(Yb174)Dd', 'MIP1a(Yb176)Dd',\n",
    "       'Perforin(Lu175)Dd', 'GMCSF(Pm147)Dd', 'CD29(Dy162)Dd',\n",
    "       'Tet164(Dy164)Dd']]\n",
    "ss27.columns=intcol\n",
    "#print(ss20)\n",
    "file27 = ss27.sample(10)\n",
    "#print(file2)\n",
    "file27=file27.values\n",
    "file27 = file27.reshape(file27.shape[0],file27.shape[1],1)\n",
    "file27.shape"
   ]
  },
  {
   "cell_type": "code",
   "execution_count": 248,
   "metadata": {},
   "outputs": [
    {
     "data": {
      "text/plain": [
       "(10, 32, 1)"
      ]
     },
     "execution_count": 248,
     "metadata": {},
     "output_type": "execute_result"
    }
   ],
   "source": [
    "datadir = test_data_dir\n",
    "datafile28 = test_data_file\n",
    "datafile28=\"/Users/jaiveersingh/Desktop/research/Deep_Learning_Project/Research/FCS/SDY_207/E1D1CMVBpp65-2.388626.fcs\"\n",
    "sample28 = FCMeasurement(ID='Test Sample', datafile=datafile28)\n",
    "sample28.data = sample28.data.drop('Time',axis=1)\n",
    "ss28 = sample28.data[['Cell_length', 'CD3(Cd108)Dd',\n",
    "       'LiveDead(In115)Dd', 'MuCD45(La139)Dd', 'IL2(Pr141)Dd', 'CCR7(Nd142)Dd',\n",
    "       'CD7(Nd143)Dd', 'CD45RO(Nd144)Dd', 'CD57(Nd145)Dd', 'CD8(Nd146)Dd',\n",
    "       'CD11a(Nd148)Dd', 'MIP1b(Nd150)Dd', 'CD69(Sm149)Dd', 'TNFa(Sm152)Dd',\n",
    "       'CD27(Sm154)Dd', 'GzmB(Eu151)Dd', 'Tet156(Gd156)Dd', 'Tet158(Gd158)Dd',\n",
    "       'CD28(Gd160)Dd', 'Tet159(Tb159)Dd', 'Tet165(Ho165)Dd',\n",
    "       'CD45RA(Er166)Dd', 'CD43(Er167)Dd', 'Tet168(Er168)Dd', 'CD62L(Tm169)Dd',\n",
    "       'CD49d(Yb172)Dd', 'KLRG1(Yb174)Dd', 'MIP1a(Yb176)Dd',\n",
    "       'Perforin(Lu175)Dd', 'GMCSF(Pm147)Dd', 'CD29(Dy162)Dd',\n",
    "       'Tet164(Dy164)Dd']]\n",
    "ss28.columns=intcol\n",
    "#print(ss20)\n",
    "file28 = ss28.sample(10)\n",
    "#print(file2)\n",
    "file28=file28.values\n",
    "file28 = file28.reshape(file28.shape[0],file28.shape[1],1)\n",
    "file28.shape"
   ]
  },
  {
   "cell_type": "code",
   "execution_count": 249,
   "metadata": {},
   "outputs": [
    {
     "data": {
      "text/plain": [
       "(10, 32, 1)"
      ]
     },
     "execution_count": 249,
     "metadata": {},
     "output_type": "execute_result"
    }
   ],
   "source": [
    "datadir = test_data_dir\n",
    "datafile29 = test_data_file\n",
    "datafile29=\"/Users/jaiveersingh/Desktop/research/Deep_Learning_Project/Research/FCS/SDY_207/E1D2NS.388627.fcs\"\n",
    "sample29 = FCMeasurement(ID='Test Sample', datafile=datafile29)\n",
    "sample29.data = sample29.data.drop('Time',axis=1)\n",
    "ss29 = sample29.data[['Cell_length', 'CD3(Cd108)Dd',\n",
    "       'LiveDead(In115)Dd', 'MuCD45(La139)Dd', 'IL2(Pr141)Dd', 'CCR7(Nd142)Dd',\n",
    "       'CD7(Nd143)Dd', 'CD45RO(Nd144)Dd', 'CD57(Nd145)Dd', 'CD8(Nd146)Dd',\n",
    "       'CD11a(Nd148)Dd', 'MIP1b(Nd150)Dd', 'CD69(Sm149)Dd', 'TNFa(Sm152)Dd',\n",
    "       'CD27(Sm154)Dd', 'GzmB(Eu151)Dd', 'Tet156(Gd156)Dd', 'Tet158(Gd158)Dd',\n",
    "       'CD28(Gd160)Dd', 'Tet159(Tb159)Dd', 'Tet165(Ho165)Dd',\n",
    "       'CD45RA(Er166)Dd', 'CD43(Er167)Dd', 'Tet168(Er168)Dd', 'CD62L(Tm169)Dd',\n",
    "       'CD49d(Yb172)Dd', 'KLRG1(Yb174)Dd', 'MIP1a(Yb176)Dd',\n",
    "       'Perforin(Lu175)Dd', 'GMCSF(Pm147)Dd', 'CD29(Dy162)Dd',\n",
    "       'Tet164(Dy164)Dd']]\n",
    "ss29.columns=intcol\n",
    "#print(ss20)\n",
    "file29 = ss29.sample(10)\n",
    "#print(file2)\n",
    "file29=file29.values\n",
    "file29 = file29.reshape(file29.shape[0],file29.shape[1],1)\n",
    "file29.shape"
   ]
  },
  {
   "cell_type": "code",
   "execution_count": 250,
   "metadata": {},
   "outputs": [
    {
     "data": {
      "text/plain": [
       "(10, 32, 1)"
      ]
     },
     "execution_count": 250,
     "metadata": {},
     "output_type": "execute_result"
    }
   ],
   "source": [
    "datadir = test_data_dir\n",
    "datafile30 = test_data_file\n",
    "datafile30=\"/Users/jaiveersingh/Desktop/research/Deep_Learning_Project/Research/FCS/SDY_207/E1D2EBVebna3.388629.fcs\"\n",
    "sample30 = FCMeasurement(ID='Test Sample', datafile=datafile30)\n",
    "sample30.data = sample30.data.drop('Time',axis=1)\n",
    "ss30 = sample30.data[['Cell_length', 'CD3(Cd108)Dd',\n",
    "       'LiveDead(In115)Dd', 'MuCD45(La139)Dd', 'IL2(Pr141)Dd', 'CCR7(Nd142)Dd',\n",
    "       'CD7(Nd143)Dd', 'CD45RO(Nd144)Dd', 'CD57(Nd145)Dd', 'CD8(Nd146)Dd',\n",
    "       'CD11a(Nd148)Dd', 'MIP1b(Nd150)Dd', 'CD69(Sm149)Dd', 'TNFa(Sm152)Dd',\n",
    "       'CD27(Sm154)Dd', 'GzmB(Eu151)Dd', 'Tet156(Gd156)Dd', 'Tet158(Gd158)Dd',\n",
    "       'CD28(Gd160)Dd', 'Tet159(Tb159)Dd', 'Tet165(Ho165)Dd',\n",
    "       'CD45RA(Er166)Dd', 'CD43(Er167)Dd', 'Tet168(Er168)Dd', 'CD62L(Tm169)Dd',\n",
    "       'CD49d(Yb172)Dd', 'KLRG1(Yb174)Dd', 'MIP1a(Yb176)Dd',\n",
    "       'Perforin(Lu175)Dd', 'GMCSF(Pm147)Dd', 'CD29(Dy162)Dd',\n",
    "       'Tet164(Dy164)Dd']]\n",
    "ss30.columns=intcol\n",
    "#print(ss20)\n",
    "file30 = ss30.sample(10)\n",
    "#print(file2)\n",
    "file30=file30.values\n",
    "file30 = file30.reshape(file30.shape[0],file30.shape[1],1)\n",
    "file30.shape"
   ]
  },
  {
   "cell_type": "code",
   "execution_count": 251,
   "metadata": {},
   "outputs": [
    {
     "data": {
      "text/plain": [
       "(10, 32, 1)"
      ]
     },
     "execution_count": 251,
     "metadata": {},
     "output_type": "execute_result"
    }
   ],
   "source": [
    "datadir = test_data_dir\n",
    "datafile31 = test_data_file\n",
    "datafile31=\"/Users/jaiveersingh/Desktop/research/Deep_Learning_Project/Research/FCS/SDY_207/E1D2PI.393238.fcs\"\n",
    "sample31 = FCMeasurement(ID='Test Sample', datafile=datafile31)\n",
    "sample31.data = sample31.data.drop('Time',axis=1)\n",
    "ss31 = sample31.data[['Cell_length', 'CD3(Cd108)Dd',\n",
    "       'LiveDead(In115)Dd', 'MuCD45(La139)Dd', 'IL2(Pr141)Dd', 'CCR7(Nd142)Dd',\n",
    "       'CD7(Nd143)Dd', 'CD45RO(Nd144)Dd', 'CD57(Nd145)Dd', 'CD8(Nd146)Dd',\n",
    "       'CD11a(Nd148)Dd', 'MIP1b(Nd150)Dd', 'CD69(Sm149)Dd', 'TNFa(Sm152)Dd',\n",
    "       'CD27(Sm154)Dd', 'GzmB(Eu151)Dd', 'Tet156(Gd156)Dd', 'Tet158(Gd158)Dd',\n",
    "       'CD28(Gd160)Dd', 'Tet159(Tb159)Dd', 'Tet165(Ho165)Dd',\n",
    "       'CD45RA(Er166)Dd', 'CD43(Er167)Dd', 'Tet168(Er168)Dd', 'CD62L(Tm169)Dd',\n",
    "       'CD49d(Yb172)Dd', 'KLRG1(Yb174)Dd', 'MIP1a(Yb176)Dd',\n",
    "       'Perforin(Lu175)Dd', 'GMCSF(Pm147)Dd', 'CD29(Dy162)Dd',\n",
    "       'Tet164(Dy164)Dd']]\n",
    "ss31.columns=intcol\n",
    "#print(ss20)\n",
    "file31 = ss31.sample(10)\n",
    "#print(file2)\n",
    "file31=file31.values\n",
    "file31 = file31.reshape(file31.shape[0],file31.shape[1],1)\n",
    "file31.shape"
   ]
  },
  {
   "cell_type": "code",
   "execution_count": 279,
   "metadata": {},
   "outputs": [
    {
     "name": "stdout",
     "output_type": "stream",
     "text": [
      "(10, 10, 32, 1)\n",
      "(22, 10, 32, 1)\n"
     ]
    }
   ],
   "source": [
    "files = [file,file1,file2,file3,file4,file5,file6,file7,file8,file9,file10,file11,file12,file13,file14,file15,file16,file17,file18,file19,file20,file21,file22,file23,file24,file25,file26,file27,file28,file29,file30,file31]\n",
    "x_test = np.asarray([i for j, i in enumerate(files) if j in rand])\n",
    "print(x_test.shape)\n",
    "x_train = np.asarray([i for j, i in enumerate(files) if j not in rand])\n",
    "print(x_train.shape)\n"
   ]
  },
  {
   "cell_type": "code",
   "execution_count": null,
   "metadata": {},
   "outputs": [],
   "source": []
  }
 ],
 "metadata": {
  "kernelspec": {
   "display_name": "Python 3",
   "language": "python",
   "name": "python3"
  },
  "language_info": {
   "codemirror_mode": {
    "name": "ipython",
    "version": 3
   },
   "file_extension": ".py",
   "mimetype": "text/x-python",
   "name": "python",
   "nbconvert_exporter": "python",
   "pygments_lexer": "ipython3",
   "version": "3.6.5"
  }
 },
 "nbformat": 4,
 "nbformat_minor": 2
}
